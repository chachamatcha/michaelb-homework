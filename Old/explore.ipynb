{
 "cells": [
  {
   "cell_type": "code",
   "execution_count": 79,
   "metadata": {},
   "outputs": [],
   "source": [
    "import pandas as pd\n",
    "import nltk"
   ]
  },
  {
   "cell_type": "code",
   "execution_count": 23,
   "metadata": {},
   "outputs": [],
   "source": [
    "import json\n",
    "data = {}\n",
    "with open('homework.json') as f:\n",
    "    i = 0\n",
    "    for line in f:\n",
    "        d = json.loads(line)\n",
    "        data[i] = d\n",
    "        i+=1\n"
   ]
  },
  {
   "cell_type": "code",
   "execution_count": 24,
   "metadata": {},
   "outputs": [],
   "source": [
    "df = pd.DataFrame.from_dict(data, orient = 'index')\n",
    "df = df.drop(columns = ['emotion_9']) #always encoded as 1. drop"
   ]
  },
  {
   "cell_type": "code",
   "execution_count": 25,
   "metadata": {},
   "outputs": [
    {
     "data": {
      "text/html": [
       "<div>\n",
       "<style scoped>\n",
       "    .dataframe tbody tr th:only-of-type {\n",
       "        vertical-align: middle;\n",
       "    }\n",
       "\n",
       "    .dataframe tbody tr th {\n",
       "        vertical-align: top;\n",
       "    }\n",
       "\n",
       "    .dataframe thead th {\n",
       "        text-align: right;\n",
       "    }\n",
       "</style>\n",
       "<table border=\"1\" class=\"dataframe\">\n",
       "  <thead>\n",
       "    <tr style=\"text-align: right;\">\n",
       "      <th></th>\n",
       "      <th>emotion_0</th>\n",
       "      <th>emotion_1</th>\n",
       "      <th>emotion_2</th>\n",
       "      <th>emotion_3</th>\n",
       "      <th>emotion_4</th>\n",
       "      <th>emotion_5</th>\n",
       "      <th>emotion_6</th>\n",
       "      <th>emotion_7</th>\n",
       "      <th>emotion_8</th>\n",
       "      <th>headline</th>\n",
       "      <th>summary</th>\n",
       "      <th>worker_id</th>\n",
       "    </tr>\n",
       "  </thead>\n",
       "  <tbody>\n",
       "    <tr>\n",
       "      <th>0</th>\n",
       "      <td>0.0</td>\n",
       "      <td>0.0</td>\n",
       "      <td>0.0</td>\n",
       "      <td>0.0</td>\n",
       "      <td>0.0</td>\n",
       "      <td>1.0</td>\n",
       "      <td>0.0</td>\n",
       "      <td>0.0</td>\n",
       "      <td>0.0</td>\n",
       "      <td>Parenting Lessons From a Partial Eclipse</td>\n",
       "      <td>I don’t do partiality. Maybe it was finally ti...</td>\n",
       "      <td>95524929</td>\n",
       "    </tr>\n",
       "    <tr>\n",
       "      <th>1</th>\n",
       "      <td>0.0</td>\n",
       "      <td>0.0</td>\n",
       "      <td>0.0</td>\n",
       "      <td>0.0</td>\n",
       "      <td>0.0</td>\n",
       "      <td>1.0</td>\n",
       "      <td>0.0</td>\n",
       "      <td>0.0</td>\n",
       "      <td>0.0</td>\n",
       "      <td>On Catalonia</td>\n",
       "      <td>Catalan lawmakers declared independence from S...</td>\n",
       "      <td>30266977</td>\n",
       "    </tr>\n",
       "    <tr>\n",
       "      <th>2</th>\n",
       "      <td>0.0</td>\n",
       "      <td>0.0</td>\n",
       "      <td>-2</td>\n",
       "      <td>0.0</td>\n",
       "      <td>0.0</td>\n",
       "      <td>0.0</td>\n",
       "      <td>0.0</td>\n",
       "      <td>0.0</td>\n",
       "      <td>0.0</td>\n",
       "      <td>A Spark of Romance Under Fluorescent Lighting</td>\n",
       "      <td>Rose Burlingham, an art dealer and writer, mar...</td>\n",
       "      <td>54197764</td>\n",
       "    </tr>\n",
       "    <tr>\n",
       "      <th>3</th>\n",
       "      <td>0.0</td>\n",
       "      <td>1.0</td>\n",
       "      <td>0.0</td>\n",
       "      <td>1.0</td>\n",
       "      <td>0.0</td>\n",
       "      <td>1.0</td>\n",
       "      <td>0.0</td>\n",
       "      <td>1.0</td>\n",
       "      <td>0.0</td>\n",
       "      <td>Apple Removes Apps From China Store That Help ...</td>\n",
       "      <td>The world’s most valuable company appears to h...</td>\n",
       "      <td>41177265</td>\n",
       "    </tr>\n",
       "    <tr>\n",
       "      <th>4</th>\n",
       "      <td>0.0</td>\n",
       "      <td>0.0</td>\n",
       "      <td>0.0</td>\n",
       "      <td>0.0</td>\n",
       "      <td>0.0</td>\n",
       "      <td>1.0</td>\n",
       "      <td>0.0</td>\n",
       "      <td>0.0</td>\n",
       "      <td>0.0</td>\n",
       "      <td>Commerce Secretary’s Offshore Ties to Putin ‘C...</td>\n",
       "      <td>Wilbur Ross, the commerce secretary, retained ...</td>\n",
       "      <td>56518865</td>\n",
       "    </tr>\n",
       "  </tbody>\n",
       "</table>\n",
       "</div>"
      ],
      "text/plain": [
       "  emotion_0 emotion_1 emotion_2 emotion_3 emotion_4 emotion_5 emotion_6  \\\n",
       "0       0.0       0.0       0.0       0.0       0.0       1.0       0.0   \n",
       "1       0.0       0.0       0.0       0.0       0.0       1.0       0.0   \n",
       "2       0.0       0.0        -2       0.0       0.0       0.0       0.0   \n",
       "3       0.0       1.0       0.0       1.0       0.0       1.0       0.0   \n",
       "4       0.0       0.0       0.0       0.0       0.0       1.0       0.0   \n",
       "\n",
       "  emotion_7 emotion_8                                           headline  \\\n",
       "0       0.0       0.0           Parenting Lessons From a Partial Eclipse   \n",
       "1       0.0       0.0                                       On Catalonia   \n",
       "2       0.0       0.0      A Spark of Romance Under Fluorescent Lighting   \n",
       "3       1.0       0.0  Apple Removes Apps From China Store That Help ...   \n",
       "4       0.0       0.0  Commerce Secretary’s Offshore Ties to Putin ‘C...   \n",
       "\n",
       "                                             summary worker_id  \n",
       "0  I don’t do partiality. Maybe it was finally ti...  95524929  \n",
       "1  Catalan lawmakers declared independence from S...  30266977  \n",
       "2  Rose Burlingham, an art dealer and writer, mar...  54197764  \n",
       "3  The world’s most valuable company appears to h...  41177265  \n",
       "4  Wilbur Ross, the commerce secretary, retained ...  56518865  "
      ]
     },
     "execution_count": 25,
     "metadata": {},
     "output_type": "execute_result"
    }
   ],
   "source": [
    "df.head()"
   ]
  },
  {
   "cell_type": "code",
   "execution_count": 26,
   "metadata": {},
   "outputs": [],
   "source": [
    "# remove weird boolean rows\n",
    "df['drop'] = False\n",
    "for i in range(9):\n",
    "    df[f'emotion_{i}'] = pd.to_numeric(df[f'emotion_{i}'],errors = 'coerce')\n",
    "    df.loc[df[f'emotion_{i}'].isin([0.,1.])==False,\"drop\"] = True\n",
    "\n",
    "# get rid of dumb text\n",
    "drops = [\"fnord\",\"-1\",\"cat\",\"-2\",\"\"]\n",
    "df.loc[df[f'headline'].isin(drops),\"drop\"] = True\n",
    "df.loc[df[f'summary'].isin(drops),\"drop\"] = True\n",
    "df = df.loc[df['drop']==False]\n",
    "\n",
    "#sum ratings on story level\n",
    "df2 = df.drop(columns = [\"drop\",\"worker_id\"]).groupby([\"headline\",\"summary\"]).sum().reset_index()\n",
    "sc = df2['summary'].value_counts().reset_index()\n",
    "summary_drops = list(sc.loc[sc[\"summary\"]>1,\"index\"]) #only keep single summary-headline\n",
    "df3 = df2.loc[~df2['summary'].isin(summary_drops)] # remove duplicates\n",
    "\n",
    "#get modal rating for story\n",
    "rename_dic = dict(zip([f\"emotion_{x}\" for x in range(9)],[x for x in range(9)]))\n",
    "df3 = df3.rename(columns = rename_dic)\n",
    "df3['emotion']=df3[[x for x in range(9)]].idxmax(axis=1)"
   ]
  },
  {
   "cell_type": "code",
   "execution_count": 75,
   "metadata": {},
   "outputs": [
    {
     "name": "stdout",
     "output_type": "stream",
     "text": [
      "['Here’s what you need to know to start your day.', 'Here’s what you need to know at the end of the day.', 'Welcome to the latest edition of the Smarter Living newsletter.', 'Here’s what you need to know about the week’s top stories.', 'Recent residential sales in New York City and the region.', 'Suggested reading from critics and editors at The New York Times.', 'The Breakdown: conversation starters and context, drawn from the day’s news in Australia.', 'It’s a big city, with plenty to do, see, hear and watch. Here’s a sampling of cultural highlights this weekend and over the week ahead.', 'New movies and TV shows are added to streaming platforms all the time. Here are the ones we think are most interesting in the coming month.', 'Look closely at this image, stripped of its caption, and join the moderated conversation about what you and other students see.', 'This week’s properties include a five-bedroom in Briarcliff Manor, N.Y., and a four-bedroom in Englewood, N.J.']\n"
     ]
    }
   ],
   "source": [
    "\n",
    "print(summary_drops)"
   ]
  },
  {
   "cell_type": "code",
   "execution_count": 106,
   "metadata": {},
   "outputs": [
    {
     "name": "stdout",
     "output_type": "stream",
     "text": [
      "   idx  idx                                           headline  \\\n",
      "0    0    0  #metoo floods social media with stories of har...   \n",
      "1    1    1  $1.3 million homes in oregon, michigan and cal...   \n",
      "2    2    2                             $1.3 million for that?   \n",
      "3    3    3  $1.5 million homes in california, montana and ...   \n",
      "4    4    4  $1.5 million homes in rhode island, california...   \n",
      "\n",
      "                                             summary    0    1    2    3    4  \\\n",
      "0  many women, as well as men, are using the hash...  0.0  0.0  0.0  1.0  4.0   \n",
      "1  a dwell-style home in portland; a 1929 tudor h...  1.0  0.0  0.0  0.0  1.0   \n",
      "2  whatever paul manafort may or may not have don...  0.0  0.0  0.0  0.0  0.0   \n",
      "3  a floor-through condominium in san francisco, ...  2.0  0.0  0.0  0.0  0.0   \n",
      "4  an 18th-century farmhouse outside newport, a h...  0.0  0.0  2.0  0.0  1.0   \n",
      "\n",
      "     5    6    7    8  labels  \n",
      "0  2.0  0.0  7.0  2.0       7  \n",
      "1  3.0  0.0  0.0  5.0       8  \n",
      "2  3.0  0.0  0.0  5.0       8  \n",
      "3  2.0  0.0  0.0  5.0       8  \n",
      "4  8.0  2.0  0.0  1.0       5  \n"
     ]
    }
   ],
   "source": [
    "df3 = df3.reset_index().rename(columns = {\"emotion\":\"labels\",\"index\":\"idx\"})\n",
    "print(df3.head())\n",
    "df3[[\"idx\",\"headline\",\"summary\",\"labels\"]].to_csv(\"clean.csv\",index=False)\n",
    "df3[[\"idx\",\"headline\",\"summary\",\"labels\"]].loc[:1000,:].to_csv(\"clean_test.csv\",index=False)"
   ]
  },
  {
   "cell_type": "code",
   "execution_count": 29,
   "metadata": {},
   "outputs": [
    {
     "data": {
      "text/plain": [
       "5    4242\n",
       "8    1454\n",
       "7    1256\n",
       "0     530\n",
       "1     501\n",
       "4     417\n",
       "3     413\n",
       "2     319\n",
       "6      48\n",
       "Name: labels, dtype: int64"
      ]
     },
     "execution_count": 29,
     "metadata": {},
     "output_type": "execute_result"
    }
   ],
   "source": [
    "df3[\"labels\"].value_counts()"
   ]
  },
  {
   "cell_type": "code",
   "execution_count": 107,
   "metadata": {},
   "outputs": [],
   "source": [
    "from sklearn.feature_extraction.text import TfidfVectorizer\n",
    "# Create feature vectors\n",
    "vectorizer = TfidfVectorizer(min_df = 5,\n",
    "                             max_df = 0.8,\n",
    "                             sublinear_tf = True,\n",
    "                             use_idf = True)\n",
    "\n",
    "for var in [\"headline\",\"summary\"]:\n",
    "    df3[var] = df3[var].apply(lambda x: ps.stem(x))\n",
    "    \n",
    "train = df3.loc[:2000]\n",
    "test =  df3.loc[2000:]\n",
    "\n",
    "\n",
    "\n",
    "\n",
    "ps = nltk.stem.PorterStemmer()\n",
    "\n",
    "train_vectors = vectorizer.fit_transform(train[\"headline\"])\n",
    "test_vectors = vectorizer.transform(test[\"headline\"])"
   ]
  },
  {
   "cell_type": "code",
   "execution_count": 108,
   "metadata": {},
   "outputs": [],
   "source": [
    "import time\n",
    "from sklearn import svm\n",
    "from sklearn.metrics import classification_report\n",
    "# Perform classification with SVM, kernel=linear\n",
    "classifier_linear = svm.SVC(kernel='linear')\n",
    "t0 = time.time()\n",
    "classifier_linear.fit(train_vectors, train['labels'])\n",
    "t1 = time.time()\n",
    "prediction_linear = classifier_linear.predict(test_vectors)\n",
    "t2 = time.time()\n",
    "time_linear_train = t1-t0\n",
    "time_linear_predict = t2-t1"
   ]
  },
  {
   "cell_type": "code",
   "execution_count": 109,
   "metadata": {},
   "outputs": [
    {
     "name": "stdout",
     "output_type": "stream",
     "text": [
      "Training time: 0.427969s; Prediction time: 0.680982s\n"
     ]
    },
    {
     "name": "stderr",
     "output_type": "stream",
     "text": [
      "/Applications/anaconda3/lib/python3.7/site-packages/sklearn/metrics/_classification.py:1245: UndefinedMetricWarning: Precision and F-score are ill-defined and being set to 0.0 in labels with no predicted samples. Use `zero_division` parameter to control this behavior.\n",
      "  _warn_prf(average, modifier, msg_start, len(result))\n",
      "/Applications/anaconda3/lib/python3.7/site-packages/sklearn/metrics/_classification.py:1245: UndefinedMetricWarning: Precision and F-score are ill-defined and being set to 0.0 in labels with no predicted samples. Use `zero_division` parameter to control this behavior.\n",
      "  _warn_prf(average, modifier, msg_start, len(result))\n",
      "/Applications/anaconda3/lib/python3.7/site-packages/sklearn/metrics/_classification.py:1245: UndefinedMetricWarning: Precision and F-score are ill-defined and being set to 0.0 in labels with no predicted samples. Use `zero_division` parameter to control this behavior.\n",
      "  _warn_prf(average, modifier, msg_start, len(result))\n"
     ]
    }
   ],
   "source": [
    "# results\n",
    "print(\"Training time: %fs; Prediction time: %fs\" % (time_linear_train, time_linear_predict))\n",
    "report = classification_report(test['labels'], prediction_linear, output_dict=True)"
   ]
  },
  {
   "cell_type": "code",
   "execution_count": 110,
   "metadata": {},
   "outputs": [],
   "source": [
    "from sklearn.metrics import accuracy_score\n",
    "\n",
    "results = accuracy_score(prediction_linear,test['labels'], normalize = True)\n",
    "#results = f1_score(prediction_linear,test['labels'],average = 'accuracy')"
   ]
  },
  {
   "cell_type": "code",
   "execution_count": 111,
   "metadata": {},
   "outputs": [],
   "source": [
    "X = vectorizer.fit_transform(train[\"headline\"])"
   ]
  },
  {
   "cell_type": "code",
   "execution_count": 112,
   "metadata": {},
   "outputs": [
    {
     "name": "stdout",
     "output_type": "stream",
     "text": [
      "0.48788300835654597\n"
     ]
    }
   ],
   "source": [
    "print(results)"
   ]
  },
  {
   "cell_type": "code",
   "execution_count": null,
   "metadata": {},
   "outputs": [],
   "source": []
  },
  {
   "cell_type": "code",
   "execution_count": 113,
   "metadata": {},
   "outputs": [],
   "source": [
    "from sklearn.feature_extraction.text import CountVectorizer, TfidfTransformer\n",
    "from sklearn.linear_model import LogisticRegression\n",
    "from sklearn.svm import SVC\n",
    "from sklearn.model_selection import train_test_split, StratifiedKFold, cross_val_score\n",
    "from sklearn.pipeline import make_pipeline, Pipeline\n",
    "from sklearn.model_selection import GridSearchCV\n",
    "from sklearn.metrics import make_scorer, accuracy_score, f1_score\n",
    "from sklearn.metrics import roc_curve, auc\n",
    "from sklearn.metrics import confusion_matrix, roc_auc_score, recall_score, precision_score"
   ]
  },
  {
   "cell_type": "code",
   "execution_count": 114,
   "metadata": {},
   "outputs": [],
   "source": [
    "import numpy as np"
   ]
  },
  {
   "cell_type": "code",
   "execution_count": 116,
   "metadata": {},
   "outputs": [
    {
     "data": {
      "text/html": [
       "<div>\n",
       "<style scoped>\n",
       "    .dataframe tbody tr th:only-of-type {\n",
       "        vertical-align: middle;\n",
       "    }\n",
       "\n",
       "    .dataframe tbody tr th {\n",
       "        vertical-align: top;\n",
       "    }\n",
       "\n",
       "    .dataframe thead th {\n",
       "        text-align: right;\n",
       "    }\n",
       "</style>\n",
       "<table border=\"1\" class=\"dataframe\">\n",
       "  <thead>\n",
       "    <tr style=\"text-align: right;\">\n",
       "      <th></th>\n",
       "      <th>idx</th>\n",
       "      <th>idx</th>\n",
       "      <th>headline</th>\n",
       "      <th>summary</th>\n",
       "      <th>0</th>\n",
       "      <th>1</th>\n",
       "      <th>2</th>\n",
       "      <th>3</th>\n",
       "      <th>4</th>\n",
       "      <th>5</th>\n",
       "      <th>6</th>\n",
       "      <th>7</th>\n",
       "      <th>8</th>\n",
       "      <th>labels</th>\n",
       "    </tr>\n",
       "  </thead>\n",
       "  <tbody>\n",
       "    <tr>\n",
       "      <th>7415</th>\n",
       "      <td>7415</td>\n",
       "      <td>7567</td>\n",
       "      <td>these n.b.a. dancers bring their high kicks co...</td>\n",
       "      <td>with packed routines, the hard-working brookly...</td>\n",
       "      <td>0.0</td>\n",
       "      <td>0.0</td>\n",
       "      <td>4.0</td>\n",
       "      <td>0.0</td>\n",
       "      <td>0.0</td>\n",
       "      <td>3.0</td>\n",
       "      <td>1.0</td>\n",
       "      <td>0.0</td>\n",
       "      <td>4.0</td>\n",
       "      <td>2</td>\n",
       "    </tr>\n",
       "    <tr>\n",
       "      <th>925</th>\n",
       "      <td>925</td>\n",
       "      <td>944</td>\n",
       "      <td>as anti-semitism rises, ‘i don’t feel safe in ...</td>\n",
       "      <td>acts of anti-semitism have increased nearly 10...</td>\n",
       "      <td>0.0</td>\n",
       "      <td>7.0</td>\n",
       "      <td>0.0</td>\n",
       "      <td>3.0</td>\n",
       "      <td>0.0</td>\n",
       "      <td>4.0</td>\n",
       "      <td>0.0</td>\n",
       "      <td>7.0</td>\n",
       "      <td>1.0</td>\n",
       "      <td>1</td>\n",
       "    </tr>\n",
       "    <tr>\n",
       "      <th>2973</th>\n",
       "      <td>2973</td>\n",
       "      <td>3019</td>\n",
       "      <td>health bill appears dead as pivotal g.o.p. sen...</td>\n",
       "      <td>senator susan collins of maine announced her o...</td>\n",
       "      <td>1.0</td>\n",
       "      <td>1.0</td>\n",
       "      <td>2.0</td>\n",
       "      <td>1.0</td>\n",
       "      <td>1.0</td>\n",
       "      <td>2.0</td>\n",
       "      <td>0.0</td>\n",
       "      <td>2.0</td>\n",
       "      <td>1.0</td>\n",
       "      <td>2</td>\n",
       "    </tr>\n",
       "    <tr>\n",
       "      <th>4850</th>\n",
       "      <td>4850</td>\n",
       "      <td>4942</td>\n",
       "      <td>n.f.l. picks: patriots over broncos; cowboys o...</td>\n",
       "      <td>the los angeles rams, dallas cowboys and new e...</td>\n",
       "      <td>1.0</td>\n",
       "      <td>0.0</td>\n",
       "      <td>1.0</td>\n",
       "      <td>1.0</td>\n",
       "      <td>0.0</td>\n",
       "      <td>3.0</td>\n",
       "      <td>0.0</td>\n",
       "      <td>0.0</td>\n",
       "      <td>3.0</td>\n",
       "      <td>5</td>\n",
       "    </tr>\n",
       "    <tr>\n",
       "      <th>227</th>\n",
       "      <td>227</td>\n",
       "      <td>239</td>\n",
       "      <td>a consumer advocate battles equifax and a storm</td>\n",
       "      <td>“i managed to respond to the first several hun...</td>\n",
       "      <td>0.0</td>\n",
       "      <td>0.0</td>\n",
       "      <td>0.0</td>\n",
       "      <td>1.0</td>\n",
       "      <td>1.0</td>\n",
       "      <td>7.0</td>\n",
       "      <td>0.0</td>\n",
       "      <td>2.0</td>\n",
       "      <td>0.0</td>\n",
       "      <td>5</td>\n",
       "    </tr>\n",
       "  </tbody>\n",
       "</table>\n",
       "</div>"
      ],
      "text/plain": [
       "       idx   idx                                           headline  \\\n",
       "7415  7415  7567  these n.b.a. dancers bring their high kicks co...   \n",
       "925    925   944  as anti-semitism rises, ‘i don’t feel safe in ...   \n",
       "2973  2973  3019  health bill appears dead as pivotal g.o.p. sen...   \n",
       "4850  4850  4942  n.f.l. picks: patriots over broncos; cowboys o...   \n",
       "227    227   239    a consumer advocate battles equifax and a storm   \n",
       "\n",
       "                                                summary    0    1    2    3  \\\n",
       "7415  with packed routines, the hard-working brookly...  0.0  0.0  4.0  0.0   \n",
       "925   acts of anti-semitism have increased nearly 10...  0.0  7.0  0.0  3.0   \n",
       "2973  senator susan collins of maine announced her o...  1.0  1.0  2.0  1.0   \n",
       "4850  the los angeles rams, dallas cowboys and new e...  1.0  0.0  1.0  1.0   \n",
       "227   “i managed to respond to the first several hun...  0.0  0.0  0.0  1.0   \n",
       "\n",
       "        4    5    6    7    8  labels  \n",
       "7415  0.0  3.0  1.0  0.0  4.0       2  \n",
       "925   0.0  4.0  0.0  7.0  1.0       1  \n",
       "2973  1.0  2.0  0.0  2.0  1.0       2  \n",
       "4850  0.0  3.0  0.0  0.0  3.0       5  \n",
       "227   1.0  7.0  0.0  2.0  0.0       5  "
      ]
     },
     "execution_count": 116,
     "metadata": {},
     "output_type": "execute_result"
    }
   ],
   "source": [
    "train, test = train_test_split(df3, test_size=0.2, random_state=1)\n",
    "train.head()"
   ]
  },
  {
   "cell_type": "code",
   "execution_count": 124,
   "metadata": {},
   "outputs": [
    {
     "name": "stdout",
     "output_type": "stream",
     "text": [
      "Fitting 5 folds for each of 3 candidates, totalling 15 fits\n",
      "0.0015668869018554688\n"
     ]
    }
   ],
   "source": [
    "import time\n",
    "\n",
    "shuffled_i = list(range(len(df3)))\n",
    "np.random.shuffle(shuffled_i)\n",
    "train_size = int(len(df3)*.8)\n",
    "train_obs = shuffled_i[:train_size]\n",
    "test_obs = shuffled_i[train_size:]\n",
    "\n",
    "train = df3.loc[train_obs,:]\n",
    "test =  df3.loc[test_obs,:]\n",
    "\n",
    "kfolds = StratifiedKFold(n_splits=5, shuffle=True, random_state=1)\n",
    "np.random.seed(1)\n",
    "\n",
    "t0 = time.time()\n",
    "pipeline_svm = make_pipeline(vectorizer, \n",
    "                            SVC(probability=True, kernel=\"rbf\", class_weight=\"balanced\"))\n",
    "\n",
    "grid_svm = GridSearchCV(pipeline_svm,\n",
    "                    param_grid = {'svc__C': [0.01, 0.1, 1]}, \n",
    "                    cv = kfolds,\n",
    "                    scoring = \"accuracy\",\n",
    "                    verbose=1,   \n",
    "                    n_jobs=-1)\n",
    "t1 = time.time()\n",
    "time_linear_train = t1-t0\n",
    "\n",
    "grid_svm.fit(train[\"headline\"], train[\"labels\"])\n",
    "grid_svm.score(test[\"headline\"], test[\"labels\"])\n",
    "print(time_linear_train)"
   ]
  },
  {
   "cell_type": "code",
   "execution_count": 125,
   "metadata": {},
   "outputs": [],
   "source": [
    "def report_results(model, X, y):\n",
    "    pred_proba = model.predict_proba(X)[:, 1]\n",
    "    pred = model.predict(X)        \n",
    "\n",
    "    #auc = roc_auc_score(y, pred_proba)\n",
    "    acc = accuracy_score(y, pred)\n",
    "    f1 = f1_score(y, pred,average = 'macro')\n",
    "    prec = precision_score(y, pred,average = 'macro')\n",
    "    rec = recall_score(y, pred,average = 'macro')\n",
    "    result = { 'f1': f1, 'acc': acc, 'precision': prec, 'recall': rec}\n",
    "    return result"
   ]
  },
  {
   "cell_type": "code",
   "execution_count": 126,
   "metadata": {},
   "outputs": [
    {
     "name": "stdout",
     "output_type": "stream",
     "text": [
      "{'f1': 0.275997983054981, 'acc': 0.4591503267973856, 'precision': 0.28220906226803005, 'recall': 0.2790799602902322}\n"
     ]
    }
   ],
   "source": [
    "print(report_results(grid_svm.best_estimator_, test[\"headline\"], test[\"labels\"]))"
   ]
  },
  {
   "cell_type": "code",
   "execution_count": null,
   "metadata": {},
   "outputs": [],
   "source": []
  }
 ],
 "metadata": {
  "kernelspec": {
   "display_name": "Python 3",
   "language": "python",
   "name": "python3"
  },
  "language_info": {
   "codemirror_mode": {
    "name": "ipython",
    "version": 3
   },
   "file_extension": ".py",
   "mimetype": "text/x-python",
   "name": "python",
   "nbconvert_exporter": "python",
   "pygments_lexer": "ipython3",
   "version": "3.7.3"
  }
 },
 "nbformat": 4,
 "nbformat_minor": 4
}
